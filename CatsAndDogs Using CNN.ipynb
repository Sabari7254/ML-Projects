{
 "cells": [
  {
   "cell_type": "markdown",
   "metadata": {},
   "source": [
    "# Cats And Dogs CNN Classification"
   ]
  },
  {
   "cell_type": "markdown",
   "metadata": {},
   "source": [
    "- This dataset is divided into 3 subfolders as Training-set, Test-set and Single-Prediction.\n",
    "- Training-set has 4000 images each of cats and dogs.\n",
    "- Test-set has 1000 images each of cats and dogs.\n",
    "- Single-Prediction has 2 images each of cat and dog."
   ]
  },
  {
   "cell_type": "code",
   "execution_count": 1,
   "metadata": {},
   "outputs": [],
   "source": [
    "import tensorflow as tf\n",
    "from keras.preprocessing.image import ImageDataGenerator"
   ]
  },
  {
   "cell_type": "code",
   "execution_count": 2,
   "metadata": {},
   "outputs": [
    {
     "name": "stdout",
     "output_type": "stream",
     "text": [
      "Found 8000 images belonging to 2 classes.\n"
     ]
    }
   ],
   "source": [
    "#Applying transformation only on training set to avoid overfitting\n",
    "train_datagen = ImageDataGenerator(rescale = 1./255,\n",
    "                                   shear_range = 0.2,\n",
    "                                   zoom_range = 0.2,\n",
    "                                   horizontal_flip = True)\n",
    "training_set = train_datagen.flow_from_directory('Desktop/dataset/training_set',\n",
    "                                                 target_size = (64, 64),\n",
    "                                                 batch_size = 32,\n",
    "                                                 class_mode = 'binary')"
   ]
  },
  {
   "cell_type": "code",
   "execution_count": 3,
   "metadata": {},
   "outputs": [
    {
     "name": "stdout",
     "output_type": "stream",
     "text": [
      "Found 2000 images belonging to 2 classes.\n"
     ]
    }
   ],
   "source": [
    "#Preprocessing the Test set\n",
    "test_datagen = ImageDataGenerator(rescale = 1./255)\n",
    "test_set = test_datagen.flow_from_directory('Desktop/dataset/test_set',\n",
    "                                            target_size = (64, 64),\n",
    "                                            batch_size = 32,\n",
    "                                            class_mode = 'binary')"
   ]
  },
  {
   "cell_type": "code",
   "execution_count": 4,
   "metadata": {},
   "outputs": [],
   "source": [
    "#Building the CNN\n",
    "cnn=tf.keras.models.Sequential()\n",
    "\n",
    "#Convolution Layer\n",
    "cnn.add(tf.keras.layers.Conv2D(filters=32, kernel_size=3, activation='relu', input_shape=[64, 64, 3]))\n",
    "\n",
    "#Pooling Layer\n",
    "cnn.add(tf.keras.layers.MaxPool2D(pool_size=2, strides=2))\n",
    "\n",
    "#2nd Convolution and Pooling Layers\n",
    "cnn.add(tf.keras.layers.Conv2D(filters=32, kernel_size=3, activation='relu'))\n",
    "cnn.add(tf.keras.layers.MaxPool2D(pool_size=2, strides=2))"
   ]
  },
  {
   "cell_type": "code",
   "execution_count": 5,
   "metadata": {},
   "outputs": [],
   "source": [
    "#Flattening Layer\n",
    "cnn.add(tf.keras.layers.Flatten())"
   ]
  },
  {
   "cell_type": "code",
   "execution_count": 6,
   "metadata": {},
   "outputs": [],
   "source": [
    "#Fully Connected Layer\n",
    "cnn.add(tf.keras.layers.Dense(units=128, activation='relu'))"
   ]
  },
  {
   "cell_type": "code",
   "execution_count": 7,
   "metadata": {},
   "outputs": [],
   "source": [
    "#Output Layer\n",
    "cnn.add(tf.keras.layers.Dense(units=1, activation='sigmoid'))"
   ]
  },
  {
   "cell_type": "code",
   "execution_count": 8,
   "metadata": {},
   "outputs": [
    {
     "name": "stdout",
     "output_type": "stream",
     "text": [
      "Model: \"sequential\"\n",
      "_________________________________________________________________\n",
      "Layer (type)                 Output Shape              Param #   \n",
      "=================================================================\n",
      "conv2d (Conv2D)              (None, 62, 62, 32)        896       \n",
      "_________________________________________________________________\n",
      "max_pooling2d (MaxPooling2D) (None, 31, 31, 32)        0         \n",
      "_________________________________________________________________\n",
      "conv2d_1 (Conv2D)            (None, 29, 29, 32)        9248      \n",
      "_________________________________________________________________\n",
      "max_pooling2d_1 (MaxPooling2 (None, 14, 14, 32)        0         \n",
      "_________________________________________________________________\n",
      "flatten (Flatten)            (None, 6272)              0         \n",
      "_________________________________________________________________\n",
      "dense (Dense)                (None, 128)               802944    \n",
      "_________________________________________________________________\n",
      "dense_1 (Dense)              (None, 1)                 129       \n",
      "=================================================================\n",
      "Total params: 813,217\n",
      "Trainable params: 813,217\n",
      "Non-trainable params: 0\n",
      "_________________________________________________________________\n"
     ]
    }
   ],
   "source": [
    "cnn.summary()"
   ]
  },
  {
   "cell_type": "code",
   "execution_count": 8,
   "metadata": {},
   "outputs": [],
   "source": [
    "#Compiling \n",
    "cnn.compile(optimizer = 'adam', loss = 'binary_crossentropy', metrics = ['accuracy'])"
   ]
  },
  {
   "cell_type": "code",
   "execution_count": 9,
   "metadata": {},
   "outputs": [
    {
     "name": "stdout",
     "output_type": "stream",
     "text": [
      "Epoch 1/25\n",
      "250/250 [==============================] - 224s 895ms/step - loss: 0.6729 - accuracy: 0.5803 - val_loss: 0.6178 - val_accuracy: 0.6615\n",
      "Epoch 2/25\n",
      "250/250 [==============================] - 221s 884ms/step - loss: 0.5935 - accuracy: 0.6816 - val_loss: 0.5627 - val_accuracy: 0.7260\n",
      "Epoch 3/25\n",
      "250/250 [==============================] - 311s 1s/step - loss: 0.5596 - accuracy: 0.7161 - val_loss: 0.5162 - val_accuracy: 0.7475\n",
      "Epoch 4/25\n",
      "250/250 [==============================] - 317s 1s/step - loss: 0.5284 - accuracy: 0.7380 - val_loss: 0.4909 - val_accuracy: 0.7610\n",
      "Epoch 5/25\n",
      "250/250 [==============================] - 304s 1s/step - loss: 0.5041 - accuracy: 0.7505 - val_loss: 0.4998 - val_accuracy: 0.7625\n",
      "Epoch 6/25\n",
      "250/250 [==============================] - 306s 1s/step - loss: 0.4893 - accuracy: 0.7574 - val_loss: 0.5223 - val_accuracy: 0.7460\n",
      "Epoch 7/25\n",
      "250/250 [==============================] - 314s 1s/step - loss: 0.4631 - accuracy: 0.7829 - val_loss: 0.4878 - val_accuracy: 0.7665\n",
      "Epoch 8/25\n",
      "250/250 [==============================] - 312s 1s/step - loss: 0.4486 - accuracy: 0.7925 - val_loss: 0.4595 - val_accuracy: 0.7930\n",
      "Epoch 9/25\n",
      "250/250 [==============================] - 312s 1s/step - loss: 0.4379 - accuracy: 0.7943 - val_loss: 0.4626 - val_accuracy: 0.7960\n",
      "Epoch 10/25\n",
      "250/250 [==============================] - 307s 1s/step - loss: 0.4257 - accuracy: 0.7974 - val_loss: 0.4563 - val_accuracy: 0.7950\n",
      "Epoch 11/25\n",
      "250/250 [==============================] - 307s 1s/step - loss: 0.4113 - accuracy: 0.8110 - val_loss: 0.4618 - val_accuracy: 0.7920\n",
      "Epoch 12/25\n",
      "250/250 [==============================] - 315s 1s/step - loss: 0.3983 - accuracy: 0.8198 - val_loss: 0.4475 - val_accuracy: 0.8065\n",
      "Epoch 13/25\n",
      "250/250 [==============================] - 318s 1s/step - loss: 0.3893 - accuracy: 0.8174 - val_loss: 0.4448 - val_accuracy: 0.8075\n",
      "Epoch 14/25\n",
      "250/250 [==============================] - 320s 1s/step - loss: 0.3805 - accuracy: 0.8263 - val_loss: 0.4903 - val_accuracy: 0.7835\n",
      "Epoch 15/25\n",
      "250/250 [==============================] - 318s 1s/step - loss: 0.3732 - accuracy: 0.8304 - val_loss: 0.4602 - val_accuracy: 0.7945\n",
      "Epoch 16/25\n",
      "250/250 [==============================] - 318s 1s/step - loss: 0.3625 - accuracy: 0.8339 - val_loss: 0.4403 - val_accuracy: 0.8100\n",
      "Epoch 17/25\n",
      "250/250 [==============================] - 318s 1s/step - loss: 0.3539 - accuracy: 0.8420 - val_loss: 0.4515 - val_accuracy: 0.8110\n",
      "Epoch 18/25\n",
      "250/250 [==============================] - 318s 1s/step - loss: 0.3449 - accuracy: 0.8429 - val_loss: 0.5163 - val_accuracy: 0.7845\n",
      "Epoch 19/25\n",
      "250/250 [==============================] - 323s 1s/step - loss: 0.3328 - accuracy: 0.8486 - val_loss: 0.4956 - val_accuracy: 0.8060\n",
      "Epoch 20/25\n",
      "250/250 [==============================] - 318s 1s/step - loss: 0.3163 - accuracy: 0.8595 - val_loss: 0.4566 - val_accuracy: 0.8080\n",
      "Epoch 21/25\n",
      "250/250 [==============================] - 320s 1s/step - loss: 0.3169 - accuracy: 0.8590 - val_loss: 0.4667 - val_accuracy: 0.8070\n",
      "Epoch 22/25\n",
      "250/250 [==============================] - 314s 1s/step - loss: 0.3085 - accuracy: 0.8671 - val_loss: 0.4553 - val_accuracy: 0.8115\n",
      "Epoch 23/25\n",
      "250/250 [==============================] - 321s 1s/step - loss: 0.2985 - accuracy: 0.8701 - val_loss: 0.4663 - val_accuracy: 0.8090\n",
      "Epoch 24/25\n",
      "250/250 [==============================] - 315s 1s/step - loss: 0.2915 - accuracy: 0.8727 - val_loss: 0.5007 - val_accuracy: 0.7915\n",
      "Epoch 25/25\n",
      "250/250 [==============================] - 319s 1s/step - loss: 0.2745 - accuracy: 0.8820 - val_loss: 0.4961 - val_accuracy: 0.7955\n"
     ]
    },
    {
     "data": {
      "text/plain": [
       "<tensorflow.python.keras.callbacks.History at 0xe505f70>"
      ]
     },
     "execution_count": 9,
     "metadata": {},
     "output_type": "execute_result"
    }
   ],
   "source": [
    "#Training the CNN on the Training set and evaluating it on the Test set\n",
    "cnn.fit(x = training_set, validation_data = test_set, epochs = 25)"
   ]
  },
  {
   "cell_type": "code",
   "execution_count": 15,
   "metadata": {},
   "outputs": [],
   "source": [
    "#Making a single Prediction\n",
    "import numpy as np\n",
    "from keras.preprocessing import image\n",
    "test_image = image.load_img('Desktop/dataset/single_prediction/cat_or_dog_1.jpg', target_size = (64, 64))\n",
    "test_image = image.img_to_array(test_image)\n",
    "test_image = np.expand_dims(test_image, axis = 0)\n",
    "result = cnn.predict(test_image)\n",
    "training_set.class_indices\n",
    "if result[0][0] == 1:\n",
    "  prediction = 'dog'\n",
    "else:\n",
    "  prediction = 'cat'"
   ]
  },
  {
   "cell_type": "code",
   "execution_count": 16,
   "metadata": {},
   "outputs": [
    {
     "name": "stdout",
     "output_type": "stream",
     "text": [
      "dog\n"
     ]
    }
   ],
   "source": [
    "print(prediction)"
   ]
  },
  {
   "cell_type": "code",
   "execution_count": null,
   "metadata": {},
   "outputs": [],
   "source": []
  }
 ],
 "metadata": {
  "kernelspec": {
   "display_name": "Python 3",
   "language": "python",
   "name": "python3"
  },
  "language_info": {
   "codemirror_mode": {
    "name": "ipython",
    "version": 3
   },
   "file_extension": ".py",
   "mimetype": "text/x-python",
   "name": "python",
   "nbconvert_exporter": "python",
   "pygments_lexer": "ipython3",
   "version": "3.8.3"
  }
 },
 "nbformat": 4,
 "nbformat_minor": 5
}
